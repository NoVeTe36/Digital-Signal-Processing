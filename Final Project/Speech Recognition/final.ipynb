{
 "cells": [
  {
   "cell_type": "code",
   "execution_count": 5,
   "metadata": {},
   "outputs": [],
   "source": [
    "import ipywidgets as widgets\n",
    "from IPython.display import display\n",
    "from threading import Thread\n",
    "from queue import Queue\n",
    "import pyaudio\n",
    "import matplotlib.pyplot as plt\n",
    "import soundfile as sf\n",
    "\n",
    "p = pyaudio.PyAudio()\n",
    "message = Queue()\n",
    "recording = Queue()\n",
    "\n",
    "CHANNELS = 1\n",
    "FRAME_RATE = 16000\n",
    "RECORD_SECONDS = 20\n",
    "AUDIO_FORMAT = pyaudio.paInt16\n",
    "SAMPLE_SIZE = 2\n",
    "\n",
    "\n",
    "# Create a button\n",
    "record_button = widgets.Button(\n",
    "    description=\"Record\",\n",
    "    disabled = False,\n",
    "    button_style='info', \n",
    "    icon  = 'microphone'\n",
    ")\n",
    "\n",
    "stop_button = widgets.Button(\n",
    "    description=\"Stop\",\n",
    "    disabled = False,\n",
    "    button_style='warning',\n",
    "    icon  = 'stop'\n",
    ")\n",
    "\n",
    "output = widgets.Output()"
   ]
  },
  {
   "cell_type": "code",
   "execution_count": null,
   "metadata": {},
   "outputs": [],
   "source": [
    "def plot_audio(data):\n",
    "    # Load the original audio waveform from a file\n",
    "    audio_data = sf.read(data)\n",
    "\n",
    "    # Plot the original audio waveform\n",
    "    plt.subplot(2, 1, 1)\n",
    "    plt.plot(audio_data)\n",
    "    plt.title('Original Audio')\n",
    "    plt.xlabel('Sample')\n",
    "    plt.ylabel('Amplitude')\n"
   ]
  },
  {
   "cell_type": "code",
   "execution_count": 6,
   "metadata": {},
   "outputs": [],
   "source": [
    "def record_audio(chunk = 1024):\n",
    "    p = pyaudio.PyAudio()\n",
    "\n",
    "    stream = p.open(format=AUDIO_FORMAT,\n",
    "                    channels=CHANNELS,\n",
    "                    rate=FRAME_RATE,\n",
    "                    input = True,\n",
    "                    input_device_index = 1,\n",
    "                    frames_per_buffer=chunk)\n",
    "    \n",
    "    global frames\n",
    "    frames = []\n",
    "\n",
    "    while not message.empty():\n",
    "        data = stream.read(chunk)\n",
    "        frames.append(data)\n",
    "        frames.append(data)\n",
    "\n",
    "        if len(frames) > (FRAME_RATE / chunk) * RECORD_SECONDS:\n",
    "            recording.put(frames.copy())\n",
    "            frames = []\n",
    "\n",
    "    stream.stop_stream()\n",
    "    stream.close()\n",
    "    p.terminate()"
   ]
  },
  {
   "cell_type": "code",
   "execution_count": 7,
   "metadata": {},
   "outputs": [],
   "source": [
    "def start_record(data):\n",
    "    message.put(True)\n",
    "    with output:\n",
    "        print(\"Recording...\")\n",
    "        record = Thread(target=record_audio)\n",
    "        record.start()\n",
    "\n",
    "        # transcribe = Thread(target=speech_recognition, args=(output,))\n",
    "        # transcribe.start()\n",
    "\n",
    "def plot_audio(data):\n",
    "    print(\"Plotting...\")\n",
    "    plt.plot(data)\n",
    "    plt.show()\n",
    "\n",
    "def stop_record(data):\n",
    "    with output:\n",
    "        message.get()\n",
    "        display(\"Stop recording\")\n",
    "\n",
    "    plot_audio(frames)\n",
    "\n",
    "\n"
   ]
  },
  {
   "cell_type": "code",
   "execution_count": 8,
   "metadata": {},
   "outputs": [
    {
     "data": {
      "application/vnd.jupyter.widget-view+json": {
       "model_id": "a3e7d5e8b4774dc7ab85e084988823ca",
       "version_major": 2,
       "version_minor": 0
      },
      "text/plain": [
       "Button(button_style='info', description='Record', icon='microphone', style=ButtonStyle())"
      ]
     },
     "metadata": {},
     "output_type": "display_data"
    },
    {
     "data": {
      "application/vnd.jupyter.widget-view+json": {
       "model_id": "4429b52c8518446a931a3bb2fec66f44",
       "version_major": 2,
       "version_minor": 0
      },
      "text/plain": [
       "Button(button_style='warning', description='Stop', icon='stop', style=ButtonStyle())"
      ]
     },
     "metadata": {},
     "output_type": "display_data"
    },
    {
     "data": {
      "application/vnd.jupyter.widget-view+json": {
       "model_id": "e818b07c313048bda447b4d0ce649fe5",
       "version_major": 2,
       "version_minor": 0
      },
      "text/plain": [
       "Output()"
      ]
     },
     "metadata": {},
     "output_type": "display_data"
    }
   ],
   "source": [
    "record_button.on_click(start_record)\n",
    "stop_button.on_click(stop_record)\n",
    "\n",
    "display(record_button, stop_button, output)"
   ]
  }
 ],
 "metadata": {
  "kernelspec": {
   "display_name": "Python 3",
   "language": "python",
   "name": "python3"
  },
  "language_info": {
   "codemirror_mode": {
    "name": "ipython",
    "version": 3
   },
   "file_extension": ".py",
   "mimetype": "text/x-python",
   "name": "python",
   "nbconvert_exporter": "python",
   "pygments_lexer": "ipython3",
   "version": "3.11.3"
  },
  "orig_nbformat": 4
 },
 "nbformat": 4,
 "nbformat_minor": 2
}
